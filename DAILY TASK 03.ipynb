{
 "cells": [
  {
   "cell_type": "markdown",
   "id": "7f534ce3",
   "metadata": {},
   "source": [
    "### COME UP WITH 1 EXAMPLE FOR ALL DATA STRUCTURES RELATED FUNCTIONS "
   ]
  },
  {
   "cell_type": "markdown",
   "id": "9d9d4915",
   "metadata": {},
   "source": [
    "### 1.LIST\n",
    "- Lists are one of the most versatile data types that allow us to work with multiple elements at one\n",
    "- List is a 1-D data\n",
    "- list can contain duplicate values.\n",
    "- list is indexable\n",
    "- list is sliceable\n",
    "- list is mutable\n",
    "- list can add elements into it.\n",
    "- list is a heterogenous data"
   ]
  },
  {
   "cell_type": "code",
   "execution_count": 1,
   "id": "63d91b52",
   "metadata": {},
   "outputs": [
    {
     "name": "stdout",
     "output_type": "stream",
     "text": [
      "languages known: ['Telugu', 'Hindi', 'English', 'kanada']\n"
     ]
    }
   ],
   "source": [
    "# 1. append()-The append() method adds an item to the end of the list.\n",
    "\n",
    "languages=[\"Telugu\",\"Hindi\",\"English\"]\n",
    "languages.append(\"kanada\")\n",
    "print(\"languages known:\",languages)"
   ]
  },
  {
   "cell_type": "code",
   "execution_count": 2,
   "id": "32d25599",
   "metadata": {},
   "outputs": [
    {
     "name": "stdout",
     "output_type": "stream",
     "text": [
      "Types of biryanis: ['veg biryani', 'mushroom biryani', 'chicken biryani', 'egg biriyani']\n",
      "Types of biryanis updated: None\n"
     ]
    }
   ],
   "source": [
    "#2. clear()- The clear() method removes all items from the list.\n",
    "\n",
    "biryani=[\"veg biryani\",\"mushroom biryani\",\"chicken biryani\",\"egg biriyani\"]\n",
    "print(\"Types of biryanis:\",biryani)\n",
    "biryani_update=biryani.clear()\n",
    "print(\"Types of biryanis updated:\",biryani_update)"
   ]
  },
  {
   "cell_type": "code",
   "execution_count": 3,
   "id": "e804ff30",
   "metadata": {},
   "outputs": [
    {
     "name": "stdout",
     "output_type": "stream",
     "text": [
      "NUMBERS: [2, 4, 6, 8, 5, 7, 11]\n",
      "==========================================\n",
      "NEW NUMBERS: [2, 4, 6, 8, 5, 7, 11]\n"
     ]
    }
   ],
   "source": [
    "#3. copy()- The copy() method returns a shallow copy of the list.\n",
    "\n",
    "numbers=[2,4,6,8,5,7,11]\n",
    "print(\"NUMBERS:\",numbers)\n",
    "print(\"==========================================\")\n",
    "new_numbers=numbers.copy()\n",
    "print(\"NEW NUMBERS:\",new_numbers)"
   ]
  },
  {
   "cell_type": "code",
   "execution_count": 4,
   "id": "f72dac93",
   "metadata": {},
   "outputs": [
    {
     "name": "stdout",
     "output_type": "stream",
     "text": [
      "THE TOTAL DEPARTMENT LIST: ['marketing', 'finance', 'accounts', 'service', 'HR', 'marketing', 'finance', 'finance']\n",
      "==========================================\n",
      "THE COUNT OF FINANCE DEPARTMENT IN LIST IS: 3\n"
     ]
    }
   ],
   "source": [
    "#4. count()-The count() method returns the number of times the specified element appears in the list.\n",
    "\n",
    "dept=[\"marketing\",\"finance\",\"accounts\",\"service\",\"HR\",\"marketing\",\"finance\",\"finance\"]\n",
    "print(\"THE TOTAL DEPARTMENT LIST:\",dept)\n",
    "print(\"==========================================\")\n",
    "print(\"THE COUNT OF FINANCE DEPARTMENT IN LIST IS:\",dept.count(\"finance\"))\n"
   ]
  },
  {
   "cell_type": "code",
   "execution_count": 5,
   "id": "137ad363",
   "metadata": {},
   "outputs": [
    {
     "name": "stdout",
     "output_type": "stream",
     "text": [
      "EVEN NUMS: [2, 4, 6, 8, 10]\n",
      "ODD NUMS: [1, 3, 5, 7, 9]\n",
      "NEW_NUM: [2, 4, 6, 8, 10, 1, 3, 5, 7, 9]\n",
      "====================================\n",
      "NEW NUMS: [1, 3, 5, 7, 9, 2, 4, 6, 8, 10, 1, 3, 5, 7, 9]\n"
     ]
    }
   ],
   "source": [
    "#5. extend()-The extend() method adds all the elements of an iterable (list, tuple, string etc.) to the end of the list.\n",
    "\n",
    "even_num=[2,4,6,8,10]\n",
    "print(\"EVEN NUMS:\",even_num)\n",
    "odd_num=[1,3,5,7,9]\n",
    "print(\"ODD NUMS:\",odd_num)\n",
    "even_num.extend(odd_num)\n",
    "print(\"NEW_NUM:\",even_num)\n",
    "print(\"====================================\")\n",
    "odd_num.extend(even_num)\n",
    "print(\"NEW NUMS:\",odd_num)"
   ]
  },
  {
   "cell_type": "code",
   "execution_count": 6,
   "id": "0a29b0b3",
   "metadata": {},
   "outputs": [
    {
     "data": {
      "text/plain": [
       "3"
      ]
     },
     "execution_count": 6,
     "metadata": {},
     "output_type": "execute_result"
    }
   ],
   "source": [
    "#6. index() -The index() method returns the index of the specified element in the list.\n",
    "\n",
    "fruits=[\"apple\",\"banana\",\"mango\",\"watermelon\",\"papaya\"]\n",
    "\n",
    "fruits.index(\"watermelon\")"
   ]
  },
  {
   "cell_type": "code",
   "execution_count": 7,
   "id": "ac46342e",
   "metadata": {},
   "outputs": [
    {
     "name": "stdout",
     "output_type": "stream",
     "text": [
      "TYPES OF FRUITS: ['apple', 'banana', 'mango', 'kiwi', 'watermelon', 'papaya']\n"
     ]
    }
   ],
   "source": [
    "#7. insert -The insert() method inserts an element to the list at the specified index.\n",
    "\n",
    "fruits=[\"apple\",\"banana\",\"mango\",\"watermelon\",\"papaya\"]\n",
    "fruits.insert(3,'kiwi')\n",
    "print(\"TYPES OF FRUITS:\",fruits)"
   ]
  },
  {
   "cell_type": "code",
   "execution_count": 8,
   "id": "1cb9db3a",
   "metadata": {},
   "outputs": [
    {
     "name": "stdout",
     "output_type": "stream",
     "text": [
      "TYPES OF FRUITS: ['apple', 'banana', 'mango', 'watermelon']\n"
     ]
    }
   ],
   "source": [
    "#8. pop()-The pop() method removes the item at the given index from the list and returns the removed item.\n",
    "\n",
    "fruits=[\"apple\",\"banana\",\"mango\",\"watermelon\",\"papaya\"]\n",
    "fruits.pop(4)\n",
    "print(\"TYPES OF FRUITS:\",fruits)"
   ]
  },
  {
   "cell_type": "code",
   "execution_count": 9,
   "id": "d8304f7f",
   "metadata": {},
   "outputs": [
    {
     "name": "stdout",
     "output_type": "stream",
     "text": [
      "TYPES OF FRUITS: ['apple', 'banana', 'watermelon', 'papaya']\n"
     ]
    }
   ],
   "source": [
    "#9. remove()-The remove() method removes the first matching element (which is passed as an argument) from the list.\n",
    "\n",
    "fruits=[\"apple\",\"banana\",\"mango\",\"watermelon\",\"papaya\"]\n",
    "fruits.remove('mango')\n",
    "print(\"TYPES OF FRUITS:\",fruits)"
   ]
  },
  {
   "cell_type": "code",
   "execution_count": 10,
   "id": "9a7cbd41",
   "metadata": {},
   "outputs": [
    {
     "name": "stdout",
     "output_type": "stream",
     "text": [
      "THE REVERSE ORDER OF FRUITS ARE: ['papaya', 'watermelon', 'kiwi', 'mango', 'banana', 'apple']\n"
     ]
    }
   ],
   "source": [
    "#10. reverse()-The reverse() method reverses the elements of the list.\n",
    "\n",
    "fruits=['apple', 'banana', 'mango', 'kiwi', 'watermelon', 'papaya']\n",
    "fruits.reverse()\n",
    "print(\"THE REVERSE ORDER OF FRUITS ARE:\",fruits)"
   ]
  },
  {
   "cell_type": "code",
   "execution_count": 11,
   "id": "e326b3f4",
   "metadata": {},
   "outputs": [
    {
     "name": "stdout",
     "output_type": "stream",
     "text": [
      "THE TYPES OF FRUITS: ['apple', 'banana', 'kiwi', 'mango', 'papaya', 'watermelon']\n"
     ]
    }
   ],
   "source": [
    "#11. sort()-The sort() method sorts the elements of a given list in a specific ascending or descending order.\n",
    "\n",
    "fruits=['apple', 'banana', 'mango', 'kiwi', 'watermelon', 'papaya']\n",
    "fruits.sort()\n",
    "print(\"THE TYPES OF FRUITS:\",fruits)"
   ]
  },
  {
   "cell_type": "markdown",
   "id": "e11f8916",
   "metadata": {},
   "source": [
    "### 2. TUPLE\n",
    "\n",
    "- It is 1-D data\n",
    "- It is indexable/sliceable\n",
    "- It is immutable data\n",
    "- It heterogenous data\n",
    "- "
   ]
  },
  {
   "cell_type": "code",
   "execution_count": 12,
   "id": "422632b5",
   "metadata": {},
   "outputs": [
    {
     "data": {
      "text/plain": [
       "3"
      ]
     },
     "execution_count": 12,
     "metadata": {},
     "output_type": "execute_result"
    }
   ],
   "source": [
    "#1. count()-count returns the number of times a specified value occurs in a tuple\n",
    "vegetables=('potato','carrot','onion','mirchi','beans','carrot','beans','carrot')\n",
    "vegetables.count('carrot')"
   ]
  },
  {
   "cell_type": "code",
   "execution_count": 13,
   "id": "ba9763c4",
   "metadata": {},
   "outputs": [
    {
     "data": {
      "text/plain": [
       "1"
      ]
     },
     "execution_count": 13,
     "metadata": {},
     "output_type": "execute_result"
    }
   ],
   "source": [
    "#2. index()-index is used to search the tuple for a specified value and returns the position of where it was found\n",
    "vegetables=('potato','carrot','onion','mirchi','beans')\n",
    "vegetables.index('carrot')"
   ]
  },
  {
   "cell_type": "markdown",
   "id": "24e4d28c",
   "metadata": {},
   "source": [
    "### 3.SETS\n",
    "- It has no duplicates\n",
    "- Indexing is not possible and slicing is also not possible\n",
    "- It is mutable\n",
    "- It is 1-D data\n",
    "- It is heterogenous data\n",
    "- "
   ]
  },
  {
   "cell_type": "code",
   "execution_count": 14,
   "id": "68098a1f",
   "metadata": {},
   "outputs": [
    {
     "data": {
      "text/plain": [
       "{'almond', 'banana', 'cashew', 'milk', 'oats', 'sugar'}"
      ]
     },
     "execution_count": 14,
     "metadata": {},
     "output_type": "execute_result"
    }
   ],
   "source": [
    "#1. add() - Adds an element to the set.If the element already exists, the add() method does not add the element.\n",
    "\n",
    "sweet={'oats','almond','cashew','banana','milk','cashew'}\n",
    "sweet.add('sugar')\n",
    "sweet"
   ]
  },
  {
   "cell_type": "code",
   "execution_count": 15,
   "id": "4d8c2bfc",
   "metadata": {},
   "outputs": [
    {
     "data": {
      "text/plain": [
       "set()"
      ]
     },
     "execution_count": 15,
     "metadata": {},
     "output_type": "execute_result"
    }
   ],
   "source": [
    "#2. clear() - The clear() method removes all elements in a set.\n",
    "sweet={'oats','almond','cashew','banana','milk','cashew'}\n",
    "sweet.clear()\n",
    "sweet"
   ]
  },
  {
   "cell_type": "code",
   "execution_count": 16,
   "id": "cd7c0f88",
   "metadata": {},
   "outputs": [
    {
     "data": {
      "text/plain": [
       "{'almond', 'banana', 'cashew', 'milk', 'oats'}"
      ]
     },
     "execution_count": 16,
     "metadata": {},
     "output_type": "execute_result"
    }
   ],
   "source": [
    "#3. copy() - The copy() method copies the set.\n",
    "sweet={'oats','almond','cashew','banana','milk','cashew'}\n",
    "sweets=sweet.copy()\n",
    "sweets"
   ]
  },
  {
   "cell_type": "code",
   "execution_count": 17,
   "id": "f6588950",
   "metadata": {},
   "outputs": [
    {
     "name": "stdout",
     "output_type": "stream",
     "text": [
      "{'milk', 'banana', 'cashew', 'oats'}\n",
      "{'fruit and nut', 'choclate', 'bubbly'}\n"
     ]
    }
   ],
   "source": [
    "#4. difference() - The difference() method returns a set that contains the difference between two sets.\n",
    "sweet={'oats','almond','cashew','banana','milk','cashew'}\n",
    "diary_milk={'fruit and nut','choclate','almond','bubbly'}\n",
    "print(sweet.difference(diary_milk))\n",
    "print(diary_milk.difference(sweet))"
   ]
  },
  {
   "cell_type": "code",
   "execution_count": 18,
   "id": "cbe3e0c2",
   "metadata": {},
   "outputs": [
    {
     "name": "stdout",
     "output_type": "stream",
     "text": [
      "{'milk', 'cashew', 'banana', 'oats'}\n",
      "{'fruit and nut', 'almond', 'choclate', 'bubbly'}\n"
     ]
    }
   ],
   "source": [
    "#5. difference_update()-The difference_update() method removes the items that exist in both sets.\n",
    "sweet={'oats','almond','cashew','banana','milk','cashew'}\n",
    "diary_milk={'fruit and nut','choclate','almond','bubbly'}\n",
    "sweet.difference_update(diary_milk)\n",
    "print(sweet)\n",
    "diary_milk.difference_update(sweet)\n",
    "print(diary_milk)\n"
   ]
  },
  {
   "cell_type": "code",
   "execution_count": 19,
   "id": "e641c819",
   "metadata": {},
   "outputs": [
    {
     "name": "stdout",
     "output_type": "stream",
     "text": [
      "{'almond', 'cashew', 'banana', 'oats'}\n"
     ]
    }
   ],
   "source": [
    "#6. discard() - The discard() method removes the specified item from the set.\n",
    "\n",
    "sweet={'oats','almond','cashew','banana','milk','cashew'}\n",
    "sweet.discard('milk')\n",
    "print(sweet)"
   ]
  },
  {
   "cell_type": "code",
   "execution_count": 20,
   "id": "9e525f12",
   "metadata": {},
   "outputs": [
    {
     "name": "stdout",
     "output_type": "stream",
     "text": [
      "{'almond'}\n"
     ]
    }
   ],
   "source": [
    "#7. intersection() - The intersection() method returns a set that contains the similarity between two or more sets.\n",
    "\n",
    "sweet={'oats','almond','cashew','banana','milk','cashew'}\n",
    "diary_milk={'fruit and nut','choclate','almond','bubbly'}\n",
    "print(sweet.intersection(diary_milk))"
   ]
  },
  {
   "cell_type": "code",
   "execution_count": 21,
   "id": "582182c7",
   "metadata": {},
   "outputs": [
    {
     "name": "stdout",
     "output_type": "stream",
     "text": [
      "{'almond'}\n",
      "{'almond'}\n"
     ]
    }
   ],
   "source": [
    "#8. instersection_update() - The intersection_update() method removes the items that is not present in both sets (or in all sets if the comparison is done between more than two sets).\n",
    "\n",
    "sweet={'oats','almond','cashew','banana','milk','cashew'}\n",
    "diary_milk={'fruit and nut','choclate','almond','bubbly'}\n",
    "sweet.intersection_update(diary_milk)\n",
    "print(sweet)\n",
    "diary_milk.intersection_update(sweet)\n",
    "print(diary_milk)"
   ]
  },
  {
   "cell_type": "code",
   "execution_count": 22,
   "id": "4cab20a6",
   "metadata": {},
   "outputs": [
    {
     "name": "stdout",
     "output_type": "stream",
     "text": [
      "False\n",
      "False\n"
     ]
    }
   ],
   "source": [
    "#9. isdisjoint() - The isdisjoint() method returns True if none of the items are present in both sets, otherwise it returns False.\n",
    "\n",
    "sweet={'oats','almond','cashew','banana','milk','cashew'}\n",
    "diary_milk={'fruit and nut','choclate','almond','bubbly'}\n",
    "sweets=sweet.isdisjoint(diary_milk)\n",
    "print(sweets)\n",
    "diarymilk=diary_milk.isdisjoint(sweet)\n",
    "print(diarymilk)\n"
   ]
  },
  {
   "cell_type": "code",
   "execution_count": 23,
   "id": "b11863ec",
   "metadata": {},
   "outputs": [
    {
     "name": "stdout",
     "output_type": "stream",
     "text": [
      "True\n"
     ]
    }
   ],
   "source": [
    "#10. issubset() - The issubset() method returns True if all items in the set exists in the specified set, otherwise it retuns False.\n",
    "\n",
    "fruits_01={'banana','apple','orange','papaya','kiwi'}\n",
    "fruits_02={'apple','orange','papaya'}\n",
    "fruits=fruits_02.issubset(fruits_01)\n",
    "print(fruits)"
   ]
  },
  {
   "cell_type": "code",
   "execution_count": 24,
   "id": "e7f21098",
   "metadata": {},
   "outputs": [
    {
     "name": "stdout",
     "output_type": "stream",
     "text": [
      "True\n"
     ]
    }
   ],
   "source": [
    "#11. issuperset() - The issuperset() method returns True if all items in the specified set exists in the original set, otherwise it retuns False.\n",
    "\n",
    "fruits_01={'banana','apple','orange','papaya','kiwi'}\n",
    "fruits_02={'apple','orange','papaya'}\n",
    "\n",
    "fruits=fruits_01.issuperset(fruits_02)\n",
    "print(fruits)"
   ]
  },
  {
   "cell_type": "code",
   "execution_count": 25,
   "id": "f7ac66ec",
   "metadata": {},
   "outputs": [
    {
     "data": {
      "text/plain": [
       "'orange'"
      ]
     },
     "execution_count": 25,
     "metadata": {},
     "output_type": "execute_result"
    }
   ],
   "source": [
    "#12. pop() - The pop() method removes a random item from the set and returns it as output.\n",
    "\n",
    "fruits={'banana','apple','orange','papaya','kiwi'}\n",
    "fruits.pop()"
   ]
  },
  {
   "cell_type": "code",
   "execution_count": 26,
   "id": "1048e182",
   "metadata": {},
   "outputs": [
    {
     "name": "stdout",
     "output_type": "stream",
     "text": [
      "{'potato', 'capsicum', 'brinjal'}\n"
     ]
    }
   ],
   "source": [
    "#13. remove() - The remove() method removes the specified element from the set.\n",
    "\n",
    "veggies ={'potato','tomato','brinjal','capsicum'}\n",
    "\n",
    "veggies.remove(\"tomato\")\n",
    "print(veggies)"
   ]
  },
  {
   "cell_type": "code",
   "execution_count": 27,
   "id": "643868f7",
   "metadata": {},
   "outputs": [
    {
     "name": "stdout",
     "output_type": "stream",
     "text": [
      "{'potato', 'apple', 'banana', 'brinjal', 'carrot', 'tomato', 'orange', 'kiwi', 'capsicum'}\n",
      "{'potato', 'apple', 'banana', 'brinjal', 'carrot', 'tomato', 'orange', 'kiwi', 'capsicum'}\n"
     ]
    }
   ],
   "source": [
    "#14. symmetric_difference() -  The symmetric_difference() method returns a set that contains all items from both set, but not the items that are present in both sets.\n",
    "\n",
    "fruits={'banana','apple','orange','papaya','kiwi','carrot'}\n",
    "veggies ={'potato','tomato','brinjal','capsicum','papaya'}\n",
    "\n",
    "print(fruits.symmetric_difference(veggies))\n",
    "print(veggies.symmetric_difference(fruits))"
   ]
  },
  {
   "cell_type": "code",
   "execution_count": 28,
   "id": "1108e313",
   "metadata": {},
   "outputs": [
    {
     "data": {
      "text/plain": [
       "{'apple',\n",
       " 'banana',\n",
       " 'brinjal',\n",
       " 'capsicum',\n",
       " 'carrot',\n",
       " 'kiwi',\n",
       " 'orange',\n",
       " 'potato',\n",
       " 'tomato'}"
      ]
     },
     "execution_count": 28,
     "metadata": {},
     "output_type": "execute_result"
    }
   ],
   "source": [
    "#15. symmetric_difference_update() - The symmetric_difference_update() method updates the original set by removing items that are present in both sets, and inserting the other items.\n",
    "fruits={'banana','apple','orange','papaya','kiwi','carrot'}\n",
    "veggies ={'potato','tomato','brinjal','capsicum','papaya'}\n",
    "\n",
    "fruits.symmetric_difference_update(veggies)\n",
    "fruits"
   ]
  },
  {
   "cell_type": "code",
   "execution_count": 29,
   "id": "f33ee4d1",
   "metadata": {},
   "outputs": [
    {
     "data": {
      "text/plain": [
       "{'apple',\n",
       " 'banana',\n",
       " 'brinjal',\n",
       " 'capsicum',\n",
       " 'carrot',\n",
       " 'kiwi',\n",
       " 'orange',\n",
       " 'papaya',\n",
       " 'potato',\n",
       " 'tomato'}"
      ]
     },
     "execution_count": 29,
     "metadata": {},
     "output_type": "execute_result"
    }
   ],
   "source": [
    "#16. union() - The union() method returns a set that contains all items from the original set, and all items from the specified set(s).\n",
    "fruits={'banana','apple','orange','papaya','kiwi','carrot'}\n",
    "veggies ={'potato','tomato','brinjal','capsicum','papaya'}\n",
    "fruits.union(veggies)"
   ]
  },
  {
   "cell_type": "code",
   "execution_count": 30,
   "id": "8eb071e9",
   "metadata": {},
   "outputs": [
    {
     "name": "stdout",
     "output_type": "stream",
     "text": [
      "{'tomato', 'potato', 'orange', 'apple', 'banana', 'papaya', 'brinjal', 'carrot', 'kiwi', 'capsicum'}\n"
     ]
    }
   ],
   "source": [
    "#17. update() - The update() method updates the current set, by adding items from another set (or any other iterable).\n",
    "\n",
    "fruits={'banana','apple','orange','papaya','kiwi','carrot'}\n",
    "veggies ={'potato','tomato','brinjal','capsicum','papaya'}\n",
    "\n",
    "fruits.update(veggies)\n",
    "print(fruits)"
   ]
  },
  {
   "cell_type": "markdown",
   "id": "e9bc506e",
   "metadata": {},
   "source": [
    "### 4. DICT\n",
    "\n",
    "- It is a **key -value** pair\n",
    "- it is represented by {}\n",
    "- it is indexable\n",
    "- it is mutable\n",
    "- cannot contain duplicate keys\n",
    "- cannot contain duplicate values\n",
    "- it is not slicable\n",
    "- heterogenous\n",
    "- 2D\n"
   ]
  },
  {
   "cell_type": "code",
   "execution_count": 31,
   "id": "09d458f1",
   "metadata": {},
   "outputs": [
    {
     "name": "stdout",
     "output_type": "stream",
     "text": [
      "{1: 'PYTHON', 2: 'C', 3: 'C++', 4: 'JAVA', 5: 'HTML'}\n",
      "{}\n"
     ]
    }
   ],
   "source": [
    "#1. clear() - The clear() method removes all the elements from a dictionary.\n",
    "\n",
    "languages={1:'PYTHON',2:'C',3:'C++',4:'JAVA',5:'HTML'}\n",
    "print(languages)\n",
    "languages.clear()\n",
    "print(languages)"
   ]
  },
  {
   "cell_type": "code",
   "execution_count": 32,
   "id": "a98d2267",
   "metadata": {},
   "outputs": [
    {
     "name": "stdout",
     "output_type": "stream",
     "text": [
      "{1: 'PYTHON', 2: 'C', 3: 'C++', 4: 'JAVA', 5: 'HTML'}\n",
      "===========================\n",
      "{1: 'PYTHON', 2: 'C', 3: 'C++', 4: 'JAVA', 5: 'HTML'}\n"
     ]
    }
   ],
   "source": [
    "#2. copy() - The copy() method returns a copy of the specified dictionary.\n",
    "\n",
    "languages={1:'PYTHON',2:'C',3:'C++',4:'JAVA',5:'HTML'}\n",
    "print(languages)\n",
    "print(\"===========================\")\n",
    "lang=languages.copy()\n",
    "print(lang)"
   ]
  },
  {
   "cell_type": "code",
   "execution_count": 33,
   "id": "e5eec4d5",
   "metadata": {},
   "outputs": [
    {
     "data": {
      "text/plain": [
       "{1: {'C', 'C++', 'HTML', 'JAVA', 'PYTHON'},\n",
       " 2: {'C', 'C++', 'HTML', 'JAVA', 'PYTHON'},\n",
       " 3: {'C', 'C++', 'HTML', 'JAVA', 'PYTHON'},\n",
       " 4: {'C', 'C++', 'HTML', 'JAVA', 'PYTHON'},\n",
       " 5: {'C', 'C++', 'HTML', 'JAVA', 'PYTHON'}}"
      ]
     },
     "execution_count": 33,
     "metadata": {},
     "output_type": "execute_result"
    }
   ],
   "source": [
    "#3. fromkeys() - The fromkeys() method returns a dictionary with the specified keys and the specified value.\n",
    "\n",
    "number={1,2,3,4,5}\n",
    "language={'PYTHON','C','C++','JAVA','HTML'}\n",
    "dict.fromkeys(number,language)"
   ]
  },
  {
   "cell_type": "code",
   "execution_count": 34,
   "id": "338ef24b",
   "metadata": {},
   "outputs": [
    {
     "name": "stdout",
     "output_type": "stream",
     "text": [
      "PYTHON\n",
      "JAVA\n"
     ]
    }
   ],
   "source": [
    "#4. get() -  The get() method returns the value of the item with the specified key.\n",
    "\n",
    "languages={1:'PYTHON',2:'C',3:'C++',4:'JAVA',5:'HTML'}\n",
    "print(languages.get(1))\n",
    "print(languages.get(4))\n",
    "\n"
   ]
  },
  {
   "cell_type": "code",
   "execution_count": 35,
   "id": "196b7a97",
   "metadata": {},
   "outputs": [
    {
     "name": "stdout",
     "output_type": "stream",
     "text": [
      "dict_items([(1, 'PYTHON'), (2, 'C'), (3, 'C++'), (4, 'JAVA'), (5, 'HTML')])\n"
     ]
    },
    {
     "data": {
      "text/plain": [
       "{1: 'PYTHON', 2: 'C', 3: 'oops', 4: 'JAVA', 5: 'HTML'}"
      ]
     },
     "execution_count": 35,
     "metadata": {},
     "output_type": "execute_result"
    }
   ],
   "source": [
    "#5. items() - The items() method returns a view object. The view object contains the key-value pairs of the dictionary, as tuples in a list.\n",
    "\n",
    "languages={1:'PYTHON',2:'C',3:'C++',4:'JAVA',5:'HTML'}\n",
    "print(languages.items())\n",
    "languages[3]='oops'\n",
    "languages"
   ]
  },
  {
   "cell_type": "code",
   "execution_count": 36,
   "id": "b1182398",
   "metadata": {},
   "outputs": [
    {
     "name": "stdout",
     "output_type": "stream",
     "text": [
      "dict_keys([1, 2, 3, 4, 5])\n"
     ]
    },
    {
     "data": {
      "text/plain": [
       "{1: 'PYTHON', 2: 'C', 3: 'C++', 4: 'JAVA', 5: 'HTML', 6: 'oops'}"
      ]
     },
     "execution_count": 36,
     "metadata": {},
     "output_type": "execute_result"
    }
   ],
   "source": [
    "#6. keys() - The keys() method returns a view object. The view object contains the keys of the dictionary, as a list.The view object will reflect any changes done to the dictionary.\n",
    "\n",
    "languages={1:'PYTHON',2:'C',3:'C++',4:'JAVA',5:'HTML'}\n",
    "print(languages.keys())\n",
    "\n",
    "languages[6]=\"oops\"\n",
    "languages"
   ]
  },
  {
   "cell_type": "code",
   "execution_count": 37,
   "id": "9b433177",
   "metadata": {},
   "outputs": [
    {
     "name": "stdout",
     "output_type": "stream",
     "text": [
      "C\n"
     ]
    }
   ],
   "source": [
    "#7. pop() - The pop() method removes the specified item from the dictionary.\n",
    "\n",
    "languages={1:'PYTHON',2:'C',3:'C++',4:'JAVA',5:'HTML'}\n",
    "print(languages.pop(2))"
   ]
  },
  {
   "cell_type": "code",
   "execution_count": 38,
   "id": "0357e9bb",
   "metadata": {},
   "outputs": [
    {
     "name": "stdout",
     "output_type": "stream",
     "text": [
      "(5, 'HTML')\n"
     ]
    }
   ],
   "source": [
    "#8.popitem() - The popitem() method removes the item that was last inserted into the dictionary.\n",
    "\n",
    "languages={1:'PYTHON',2:'C',3:'C++',4:'JAVA',5:'HTML'}\n",
    "print(languages.popitem())"
   ]
  },
  {
   "cell_type": "code",
   "execution_count": 39,
   "id": "11d20992",
   "metadata": {},
   "outputs": [
    {
     "name": "stdout",
     "output_type": "stream",
     "text": [
      "oops\n"
     ]
    },
    {
     "data": {
      "text/plain": [
       "{1: 'PYTHON', 2: 'C', 3: 'C++', 4: 'JAVA', 5: 'HTML', 6: 'oops'}"
      ]
     },
     "execution_count": 39,
     "metadata": {},
     "output_type": "execute_result"
    }
   ],
   "source": [
    "#9. setdefault() - The setdefault() method returns the value of the item with the specified key.\n",
    "\n",
    "languages={1:'PYTHON',2:'C',3:'C++',4:'JAVA',5:'HTML'}\n",
    "print(languages.setdefault(6,'oops'))\n",
    "languages"
   ]
  },
  {
   "cell_type": "code",
   "execution_count": 40,
   "id": "3432d18b",
   "metadata": {},
   "outputs": [
    {
     "data": {
      "text/plain": [
       "{1: 'PYTHON', 2: 'C', 3: 'C++', 4: 'JAVA', 5: 'HTML', 6: 'oops'}"
      ]
     },
     "execution_count": 40,
     "metadata": {},
     "output_type": "execute_result"
    }
   ],
   "source": [
    "#10. update() - The update() method inserts the specified items to the dictionary.\n",
    "\n",
    "languages={1:'PYTHON',2:'C',3:'C++',4:'JAVA',5:'HTML'}\n",
    "languages.update({6:'oops'})\n",
    "languages"
   ]
  },
  {
   "cell_type": "code",
   "execution_count": 41,
   "id": "cbdd060e",
   "metadata": {},
   "outputs": [
    {
     "data": {
      "text/plain": [
       "dict_values(['PYTHON', 'C', 'C++', 'JAVA', 'HTML'])"
      ]
     },
     "execution_count": 41,
     "metadata": {},
     "output_type": "execute_result"
    }
   ],
   "source": [
    "#11.values() -  The values() method returns a view object. The view object contains the values of the dictionary, as a list.\n",
    "\n",
    "languages={1:'PYTHON',2:'C',3:'C++',4:'JAVA',5:'HTML'}\n",
    "languages.values()"
   ]
  }
 ],
 "metadata": {
  "kernelspec": {
   "display_name": "Python 3 (ipykernel)",
   "language": "python",
   "name": "python3"
  },
  "language_info": {
   "codemirror_mode": {
    "name": "ipython",
    "version": 3
   },
   "file_extension": ".py",
   "mimetype": "text/x-python",
   "name": "python",
   "nbconvert_exporter": "python",
   "pygments_lexer": "ipython3",
   "version": "3.9.7"
  }
 },
 "nbformat": 4,
 "nbformat_minor": 5
}
